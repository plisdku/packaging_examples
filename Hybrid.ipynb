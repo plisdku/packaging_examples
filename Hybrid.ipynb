{
 "cells": [
  {
   "cell_type": "code",
   "execution_count": 1,
   "metadata": {},
   "outputs": [
    {
     "name": "stdout",
     "output_type": "stream",
     "text": [
      "Exception reporting mode: Plain\n"
     ]
    }
   ],
   "source": [
    "%load_ext autoreload\n",
    "%autoreload 2\n",
    "%matplotlib inline\n",
    "%xmode plain"
   ]
  },
  {
   "cell_type": "code",
   "execution_count": 2,
   "metadata": {},
   "outputs": [],
   "source": [
    "import glob\n",
    "import os\n",
    "import ctypes"
   ]
  },
  {
   "cell_type": "code",
   "execution_count": 3,
   "metadata": {},
   "outputs": [],
   "source": [
    "import plisdku"
   ]
  },
  {
   "cell_type": "code",
   "execution_count": 3,
   "metadata": {},
   "outputs": [],
   "source": [
    "ctypes.cdll.LoadLibrary(\"libc.dylib\")\n",
    "libc = ctypes.CDLL(\"libc.dylib\")"
   ]
  },
  {
   "cell_type": "code",
   "execution_count": 4,
   "metadata": {},
   "outputs": [
    {
     "data": {
      "text/plain": [
       "2"
      ]
     },
     "execution_count": 4,
     "metadata": {},
     "output_type": "execute_result"
    }
   ],
   "source": [
    "# This works.  The .so file is created in src/, adjacent to the nativepkg directory.\n",
    "# It works with pip install, and also with pip install -e.\n",
    "# In the case of -e, the .so is left in my original directory tree.\n",
    "# In the case of a standard install, the .so is put into site-packages.\n",
    "\n",
    "# So now the question is, how do I get the name of this .so file?\n",
    "\n",
    "ctypes.cdll.LoadLibrary(\"/Users/paul/Documents/Work/Light/Development/hybrid/extension_vanilla/src/nativepkg.cpython-37m-darwin.so\")\n",
    "libc = ctypes.CDLL(\"/Users/paul/Documents/Work/Light/Development/hybrid/extension_vanilla/src/nativepkg.cpython-37m-darwin.so\")\n",
    "libc.add(1,1)"
   ]
  },
  {
   "cell_type": "code",
   "execution_count": 4,
   "metadata": {},
   "outputs": [
    {
     "name": "stdout",
     "output_type": "stream",
     "text": [
      "parent dir: /usr/local/lib/python3.7/site-packages/nativepkg/..\n",
      "['/usr/local/lib/python3.7/site-packages/nativepkg/../nativepkg.cpython-37m-darwin.so']\n"
     ]
    }
   ],
   "source": [
    "import nativepkg\n",
    "import pythonpkg"
   ]
  },
  {
   "cell_type": "code",
   "execution_count": 5,
   "metadata": {},
   "outputs": [
    {
     "data": {
      "text/plain": [
       "81"
      ]
     },
     "execution_count": 5,
     "metadata": {},
     "output_type": "execute_result"
    }
   ],
   "source": [
    "nativepkg.add(3,78)"
   ]
  }
 ],
 "metadata": {
  "kernelspec": {
   "display_name": "Python 3",
   "language": "python",
   "name": "python3"
  },
  "language_info": {
   "codemirror_mode": {
    "name": "ipython",
    "version": 3
   },
   "file_extension": ".py",
   "mimetype": "text/x-python",
   "name": "python",
   "nbconvert_exporter": "python",
   "pygments_lexer": "ipython3",
   "version": "3.7.5"
  }
 },
 "nbformat": 4,
 "nbformat_minor": 4
}
